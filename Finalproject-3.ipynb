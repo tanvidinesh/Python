{
  "nbformat": 4,
  "nbformat_minor": 0,
  "metadata": {
    "colab": {
      "name": "Finalproject.ipynb",
      "provenance": [],
      "collapsed_sections": []
    },
    "kernelspec": {
      "name": "python3",
      "display_name": "Python 3"
    }
  },
  "cells": [
    {
      "cell_type": "markdown",
      "metadata": {
        "id": "rIYdgLtrS8JY"
      },
      "source": [
        "# Introduction"
      ]
    },
    {
      "cell_type": "markdown",
      "metadata": {
        "id": "0o5G0LIeDzWi"
      },
      "source": [
        "**Chosen Project:** *Spreadsheet Analysis* - Option 3\n",
        "\n",
        "**Instructions:**  \n",
        "In this project you'll use Python to do data analysis on a spreadsheet. The standard project will use csv file that contains fake sales data. After completing the required tasks you are free to change the csv file that you use.\n",
        "\n",
        "**MoSCoW** of the Project:\n",
        "- Must read the data from the spreadsheet\n",
        "- Must collect all of the sales from each month into a single list\n",
        "- Must output the total sales across all months\n",
        "- Should ouput a summary of the results to a spreadsheet\n",
        "- Should calculate the monthly changes in percentages\n",
        "- Should calculate the average of sales\n",
        "- Could calculate the highest and lowest sales months\n",
        "- Could use an extra data source from a different spreadsheet\n",
        "- Could merge a different spreadsheet in order to operate a comparison"
      ]
    },
    {
      "cell_type": "markdown",
      "metadata": {
        "id": "b-NoT6P7TBP0"
      },
      "source": [
        "# Option 3 - Main Section"
      ]
    },
    {
      "cell_type": "code",
      "metadata": {
        "id": "t23f-4_2ttqP",
        "outputId": "c60378a5-5d0f-4454-f9da-92c44dd28e4d",
        "colab": {
          "base_uri": "https://localhost:8080/",
          "height": 204
        }
      },
      "source": [
        "#Import external libraries\n",
        "import pandas as pd\n",
        "import numpy as np\n",
        "import seaborn as sns\n",
        "import matplotlib.pyplot as plt\n",
        "\n",
        "%matplotlib inline\n",
        "\n",
        "df = pd.read_csv('sales.csv')\n",
        "df.head()\n"
      ],
      "execution_count": null,
      "outputs": [
        {
          "output_type": "execute_result",
          "data": {
            "text/html": [
              "<div>\n",
              "<style scoped>\n",
              "    .dataframe tbody tr th:only-of-type {\n",
              "        vertical-align: middle;\n",
              "    }\n",
              "\n",
              "    .dataframe tbody tr th {\n",
              "        vertical-align: top;\n",
              "    }\n",
              "\n",
              "    .dataframe thead th {\n",
              "        text-align: right;\n",
              "    }\n",
              "</style>\n",
              "<table border=\"1\" class=\"dataframe\">\n",
              "  <thead>\n",
              "    <tr style=\"text-align: right;\">\n",
              "      <th></th>\n",
              "      <th>year</th>\n",
              "      <th>month</th>\n",
              "      <th>sales</th>\n",
              "      <th>expenditure</th>\n",
              "    </tr>\n",
              "  </thead>\n",
              "  <tbody>\n",
              "    <tr>\n",
              "      <th>0</th>\n",
              "      <td>2018</td>\n",
              "      <td>jan</td>\n",
              "      <td>6226</td>\n",
              "      <td>3808</td>\n",
              "    </tr>\n",
              "    <tr>\n",
              "      <th>1</th>\n",
              "      <td>2018</td>\n",
              "      <td>feb</td>\n",
              "      <td>1521</td>\n",
              "      <td>3373</td>\n",
              "    </tr>\n",
              "    <tr>\n",
              "      <th>2</th>\n",
              "      <td>2018</td>\n",
              "      <td>mar</td>\n",
              "      <td>1842</td>\n",
              "      <td>3965</td>\n",
              "    </tr>\n",
              "    <tr>\n",
              "      <th>3</th>\n",
              "      <td>2018</td>\n",
              "      <td>apr</td>\n",
              "      <td>2051</td>\n",
              "      <td>1098</td>\n",
              "    </tr>\n",
              "    <tr>\n",
              "      <th>4</th>\n",
              "      <td>2018</td>\n",
              "      <td>may</td>\n",
              "      <td>1728</td>\n",
              "      <td>3046</td>\n",
              "    </tr>\n",
              "  </tbody>\n",
              "</table>\n",
              "</div>"
            ],
            "text/plain": [
              "   year month  sales  expenditure\n",
              "0  2018   jan   6226         3808\n",
              "1  2018   feb   1521         3373\n",
              "2  2018   mar   1842         3965\n",
              "3  2018   apr   2051         1098\n",
              "4  2018   may   1728         3046"
            ]
          },
          "metadata": {
            "tags": []
          },
          "execution_count": 5
        }
      ]
    },
    {
      "cell_type": "code",
      "metadata": {
        "id": "q3emyEz8x_iU",
        "outputId": "dae27306-e2b3-4aba-d14c-d01a6758f1c6",
        "colab": {
          "base_uri": "https://localhost:8080/",
          "height": 238
        }
      },
      "source": [
        "#Showcase all sales in 2018\n",
        "df['sales']"
      ],
      "execution_count": null,
      "outputs": [
        {
          "output_type": "execute_result",
          "data": {
            "text/plain": [
              "0     6226\n",
              "1     1521\n",
              "2     1842\n",
              "3     2051\n",
              "4     1728\n",
              "5     2138\n",
              "6     7479\n",
              "7     4434\n",
              "8     3615\n",
              "9     5472\n",
              "10    7224\n",
              "11    1812\n",
              "Name: sales, dtype: int64"
            ]
          },
          "metadata": {
            "tags": []
          },
          "execution_count": 105
        }
      ]
    },
    {
      "cell_type": "code",
      "metadata": {
        "id": "weE9bc2Lq4gG",
        "outputId": "e0830396-c58f-401a-efce-df167cff400c",
        "colab": {
          "base_uri": "https://localhost:8080/",
          "height": 238
        }
      },
      "source": [
        "# Calculating and printing the profit for every month in 2018\n",
        "df['sales']- df['expenditure']"
      ],
      "execution_count": null,
      "outputs": [
        {
          "output_type": "execute_result",
          "data": {
            "text/plain": [
              "0     2418\n",
              "1    -1852\n",
              "2    -2123\n",
              "3      953\n",
              "4    -1318\n",
              "5     -120\n",
              "6     5395\n",
              "7     1635\n",
              "8     1966\n",
              "9     4356\n",
              "10    5793\n",
              "11   -1720\n",
              "dtype: int64"
            ]
          },
          "metadata": {
            "tags": []
          },
          "execution_count": 106
        }
      ]
    },
    {
      "cell_type": "code",
      "metadata": {
        "id": "6iD3KSETstXE",
        "outputId": "2eda1403-cea9-4387-c4f0-3d11b360705f",
        "colab": {
          "base_uri": "https://localhost:8080/",
          "height": 34
        }
      },
      "source": [
        "#Show profit in a list\n",
        "profit_list = (df['sales']- df['expenditure']).tolist()\n",
        "profit_list"
      ],
      "execution_count": null,
      "outputs": [
        {
          "output_type": "execute_result",
          "data": {
            "text/plain": [
              "[2418, -1852, -2123, 953, -1318, -120, 5395, 1635, 1966, 4356, 5793, -1720]"
            ]
          },
          "metadata": {
            "tags": []
          },
          "execution_count": 107
        }
      ]
    },
    {
      "cell_type": "code",
      "metadata": {
        "id": "UAVfNiVhtVlt",
        "outputId": "44cd232b-cb57-450b-e89a-8c746635b163",
        "colab": {
          "base_uri": "https://localhost:8080/",
          "height": 296
        }
      },
      "source": [
        "#Graph for the profit in 2018\n",
        "sns.barplot(x='month', y=profit_list, data=df , palette='viridis')"
      ],
      "execution_count": null,
      "outputs": [
        {
          "output_type": "execute_result",
          "data": {
            "text/plain": [
              "<matplotlib.axes._subplots.AxesSubplot at 0x7f15f0bfa048>"
            ]
          },
          "metadata": {
            "tags": []
          },
          "execution_count": 108
        },
        {
          "output_type": "display_data",
          "data": {
            "image/png": "[encoded data removed]",
            "text/plain": [
              "<Figure size 432x288 with 1 Axes>"
            ]
          },
          "metadata": {
            "tags": [],
            "needs_background": "light"
          }
        }
      ]
    },
    {
      "cell_type": "code",
      "metadata": {
        "id": "AIWctjYUx5Db",
        "outputId": "8efd2c9a-bcbb-4472-a744-b26980f34923",
        "colab": {
          "base_uri": "https://localhost:8080/",
          "height": 34
        }
      },
      "source": [
        "# Show sales in a list\n",
        "sales_list = df['sales'].tolist()\n",
        "sales_list"
      ],
      "execution_count": null,
      "outputs": [
        {
          "output_type": "execute_result",
          "data": {
            "text/plain": [
              "[6226, 1521, 1842, 2051, 1728, 2138, 7479, 4434, 3615, 5472, 7224, 1812]"
            ]
          },
          "metadata": {
            "tags": []
          },
          "execution_count": 109
        }
      ]
    },
    {
      "cell_type": "code",
      "metadata": {
        "id": "YyRvC0E2SptW",
        "outputId": "08240b2d-c193-4706-fed8-5c9a90c28e50",
        "colab": {
          "base_uri": "https://localhost:8080/",
          "height": 34
        }
      },
      "source": [
        "# Calculate the sum of sales\n",
        "df['sales'].sum()"
      ],
      "execution_count": null,
      "outputs": [
        {
          "output_type": "execute_result",
          "data": {
            "text/plain": [
              "45542"
            ]
          },
          "metadata": {
            "tags": []
          },
          "execution_count": 110
        }
      ]
    },
    {
      "cell_type": "code",
      "metadata": {
        "id": "Px9OIg9v22Z0"
      },
      "source": [
        "# Convert to excel\n",
        "df.to_excel('sales_excel.xlsx')"
      ],
      "execution_count": null,
      "outputs": []
    },
    {
      "cell_type": "code",
      "metadata": {
        "id": "-y26k5LWyNkE",
        "outputId": "58a42a9b-7ebb-468f-a6b8-ddfcb9a5c462",
        "colab": {
          "base_uri": "https://localhost:8080/",
          "height": 34
        }
      },
      "source": [
        "#Calculate the mean\n",
        "df['sales'].mean()"
      ],
      "execution_count": null,
      "outputs": [
        {
          "output_type": "execute_result",
          "data": {
            "text/plain": [
              "3795.1666666666665"
            ]
          },
          "metadata": {
            "tags": []
          },
          "execution_count": 112
        }
      ]
    },
    {
      "cell_type": "code",
      "metadata": {
        "id": "JPmBQ84kyP8-",
        "outputId": "2302d617-f84e-4947-c729-a6e2cdf9e04f",
        "colab": {
          "base_uri": "https://localhost:8080/",
          "height": 68
        }
      },
      "source": [
        "#Calculate the month with the maximum sales in 2018\n",
        "df[['month', 'sales']].max()"
      ],
      "execution_count": null,
      "outputs": [
        {
          "output_type": "execute_result",
          "data": {
            "text/plain": [
              "month     sep\n",
              "sales    7479\n",
              "dtype: object"
            ]
          },
          "metadata": {
            "tags": []
          },
          "execution_count": 113
        }
      ]
    },
    {
      "cell_type": "code",
      "metadata": {
        "id": "LSJ-9BaiyUQn",
        "outputId": "3662b0d6-d573-420e-ed96-f4aa56f4dc50",
        "colab": {
          "base_uri": "https://localhost:8080/",
          "height": 68
        }
      },
      "source": [
        "#Calculate the month with the minimum sales in 2018\n",
        "df[['month', 'sales']].min()"
      ],
      "execution_count": null,
      "outputs": [
        {
          "output_type": "execute_result",
          "data": {
            "text/plain": [
              "month     apr\n",
              "sales    1521\n",
              "dtype: object"
            ]
          },
          "metadata": {
            "tags": []
          },
          "execution_count": 114
        }
      ]
    },
    {
      "cell_type": "code",
      "metadata": {
        "id": "j6j6RHb1yWXA",
        "outputId": "63d5c151-67cb-482a-9947-4b25c520712d",
        "colab": {
          "base_uri": "https://localhost:8080/",
          "height": 238
        }
      },
      "source": [
        "#Calculate the percentage change in sales\n",
        "df['percent_change'] = df['sales'].pct_change()\n",
        "df['percent_change']"
      ],
      "execution_count": null,
      "outputs": [
        {
          "output_type": "execute_result",
          "data": {
            "text/plain": [
              "0          NaN\n",
              "1    -0.755702\n",
              "2     0.211045\n",
              "3     0.113464\n",
              "4    -0.157484\n",
              "5     0.237269\n",
              "6     2.498129\n",
              "7    -0.407140\n",
              "8    -0.184709\n",
              "9     0.513693\n",
              "10    0.320175\n",
              "11   -0.749169\n",
              "Name: percent_change, dtype: float64"
            ]
          },
          "metadata": {
            "tags": []
          },
          "execution_count": 115
        }
      ]
    },
    {
      "cell_type": "code",
      "metadata": {
        "id": "YHSe0ML8yeOa",
        "outputId": "eb112bfd-63ab-4c4c-fb2a-a63764442597",
        "colab": {
          "base_uri": "https://localhost:8080/",
          "height": 296
        }
      },
      "source": [
        "# Figure showing count of sales per month\n",
        "sns.barplot(x='month', y='sales', data=df, palette='viridis')"
      ],
      "execution_count": null,
      "outputs": [
        {
          "output_type": "execute_result",
          "data": {
            "text/plain": [
              "<matplotlib.axes._subplots.AxesSubplot at 0x7f15f0bc3d30>"
            ]
          },
          "metadata": {
            "tags": []
          },
          "execution_count": 116
        },
        {
          "output_type": "display_data",
          "data": {
            "image/png": "[encoded data removed]",
            "text/plain": [
              "<Figure size 432x288 with 1 Axes>"
            ]
          },
          "metadata": {
            "tags": [],
            "needs_background": "light"
          }
        }
      ]
    },
    {
      "cell_type": "code",
      "metadata": {
        "id": "BXmxCzRiSuVt",
        "outputId": "c2ba8111-dd40-417f-fbf3-ecedfb730e91",
        "colab": {
          "base_uri": "https://localhost:8080/",
          "height": 764
        }
      },
      "source": [
        "sns.pairplot(df)"
      ],
      "execution_count": null,
      "outputs": [
        {
          "output_type": "execute_result",
          "data": {
            "text/plain": [
              "<seaborn.axisgrid.PairGrid at 0x7f15f0b7da58>"
            ]
          },
          "metadata": {
            "tags": []
          },
          "execution_count": 117
        },
        {
          "output_type": "display_data",
          "data": {
            "image/png": "[encoded data removed]",
            "text/plain": [
              "<Figure size 720x720 with 20 Axes>"
            ]
          },
          "metadata": {
            "tags": [],
            "needs_background": "light"
          }
        }
      ]
    },
    {
      "cell_type": "markdown",
      "metadata": {
        "id": "e9EbshhhTHjl"
      },
      "source": [
        "# Option 3 - Extensions"
      ]
    },
    {
      "cell_type": "code",
      "metadata": {
        "id": "a_ZZIcn30i2b",
        "outputId": "f542606a-4fb7-4210-8646-e35310371b76",
        "colab": {
          "base_uri": "https://localhost:8080/",
          "height": 221
        }
      },
      "source": [
        "#Create new csv file for 2019\n",
        "import csv\n",
        "import pandas as pd\n",
        "\n",
        "with open('sales2019.csv', 'w', newline='') as csvfile:\n",
        "    fieldnames = ['year', 'month', 'sales', 'expenditure','weather']\n",
        "    writer = csv.DictWriter(csvfile, fieldnames=fieldnames)\n",
        "\n",
        "#We have rated the weather based on a system of Ok(=1), Good(=2), Bad(=0). We will use this to compare the sales compared to weather conditions. \n",
        "\n",
        "data = [\n",
        "{'year': '2019','month': 'Jan', 'sales': '6543', 'expenditure': '2345', 'weather': '1'},\n",
        "{'year': '2019','month': 'Feb', 'sales': '9876', 'expenditure': '1129', 'weather': '2'},\n",
        "{'year': '2019','month': 'Mar', 'sales': '7834', 'expenditure': '6733', 'weather': '2'},\n",
        "{'year': '2019','month': 'Apr', 'sales': '3452', 'expenditure': '4321', 'weather': '0'},\n",
        "{'year': '2019','month': 'May', 'sales': '1674', 'expenditure': '2123', 'weather': '0'},\n",
        "{'year': '2019','month': 'Jun', 'sales': '9084', 'expenditure': '4532', 'weather': '2'},\n",
        "{'year': '2019','month': 'Jul', 'sales': '6758', 'expenditure': '2222', 'weather': '1'},\n",
        "{'year': '2019','month': 'Aug', 'sales': '1232', 'expenditure': '2345', 'weather': '0'},\n",
        "{'year': '2019','month': 'Sep', 'sales': '9988', 'expenditure': '1456', 'weather': '2'},\n",
        "{'year': '2019','month': 'Oct', 'sales': '7543', 'expenditure': '3321', 'weather': '2'},\n",
        "{'year': '2019','month': 'Nov', 'sales': '6788', 'expenditure': '3452', 'weather': '1'},\n",
        "{'year': '2019','month': 'Dec', 'sales': '6532', 'expenditure': '2147', 'weather': '1'}\n",
        "]\n",
        "\n",
        "with open('sales2019.csv', 'w+') as csv_file:\n",
        "    spreadsheet = csv.DictWriter(csv_file, fieldnames= fieldnames)\n",
        "    spreadsheet.writeheader()\n",
        "    spreadsheet.writerows(data)\n",
        "\n",
        "print('sales2019.csv')\n",
        "\n",
        "df2 = pd.read_csv('sales2019.csv')\n",
        "df2.head()"
      ],
      "execution_count": null,
      "outputs": [
        {
          "output_type": "stream",
          "text": [
            "sales2019.csv\n"
          ],
          "name": "stdout"
        },
        {
          "output_type": "execute_result",
          "data": {
            "text/html": [
              "<div>\n",
              "<style scoped>\n",
              "    .dataframe tbody tr th:only-of-type {\n",
              "        vertical-align: middle;\n",
              "    }\n",
              "\n",
              "    .dataframe tbody tr th {\n",
              "        vertical-align: top;\n",
              "    }\n",
              "\n",
              "    .dataframe thead th {\n",
              "        text-align: right;\n",
              "    }\n",
              "</style>\n",
              "<table border=\"1\" class=\"dataframe\">\n",
              "  <thead>\n",
              "    <tr style=\"text-align: right;\">\n",
              "      <th></th>\n",
              "      <th>year</th>\n",
              "      <th>month</th>\n",
              "      <th>sales</th>\n",
              "      <th>expenditure</th>\n",
              "      <th>weather</th>\n",
              "    </tr>\n",
              "  </thead>\n",
              "  <tbody>\n",
              "    <tr>\n",
              "      <th>0</th>\n",
              "      <td>2019</td>\n",
              "      <td>Jan</td>\n",
              "      <td>6543</td>\n",
              "      <td>2345</td>\n",
              "      <td>1</td>\n",
              "    </tr>\n",
              "    <tr>\n",
              "      <th>1</th>\n",
              "      <td>2019</td>\n",
              "      <td>Feb</td>\n",
              "      <td>9876</td>\n",
              "      <td>1129</td>\n",
              "      <td>2</td>\n",
              "    </tr>\n",
              "    <tr>\n",
              "      <th>2</th>\n",
              "      <td>2019</td>\n",
              "      <td>Mar</td>\n",
              "      <td>7834</td>\n",
              "      <td>6733</td>\n",
              "      <td>2</td>\n",
              "    </tr>\n",
              "    <tr>\n",
              "      <th>3</th>\n",
              "      <td>2019</td>\n",
              "      <td>Apr</td>\n",
              "      <td>3452</td>\n",
              "      <td>4321</td>\n",
              "      <td>0</td>\n",
              "    </tr>\n",
              "    <tr>\n",
              "      <th>4</th>\n",
              "      <td>2019</td>\n",
              "      <td>May</td>\n",
              "      <td>1674</td>\n",
              "      <td>2123</td>\n",
              "      <td>0</td>\n",
              "    </tr>\n",
              "  </tbody>\n",
              "</table>\n",
              "</div>"
            ],
            "text/plain": [
              "   year month  sales  expenditure  weather\n",
              "0  2019   Jan   6543         2345        1\n",
              "1  2019   Feb   9876         1129        2\n",
              "2  2019   Mar   7834         6733        2\n",
              "3  2019   Apr   3452         4321        0\n",
              "4  2019   May   1674         2123        0"
            ]
          },
          "metadata": {
            "tags": []
          },
          "execution_count": 13
        }
      ]
    },
    {
      "cell_type": "code",
      "metadata": {
        "id": "kuvsus639mZi",
        "outputId": "ef94b21f-147b-40a1-b439-8a34520346cb",
        "colab": {
          "base_uri": "https://localhost:8080/",
          "height": 238
        }
      },
      "source": [
        "#Printing out the sales results of the year\n",
        "df2['sales']"
      ],
      "execution_count": null,
      "outputs": [
        {
          "output_type": "execute_result",
          "data": {
            "text/plain": [
              "0     6543\n",
              "1     9876\n",
              "2     7834\n",
              "3     3452\n",
              "4     1674\n",
              "5     9084\n",
              "6     6758\n",
              "7     1232\n",
              "8     9988\n",
              "9     7543\n",
              "10    6788\n",
              "11    6532\n",
              "Name: sales, dtype: int64"
            ]
          },
          "metadata": {
            "tags": []
          },
          "execution_count": 119
        }
      ]
    },
    {
      "cell_type": "code",
      "metadata": {
        "id": "4xnOcK-4OWDy",
        "outputId": "9112cc7d-3345-4631-a36e-baabff89a573",
        "colab": {
          "base_uri": "https://localhost:8080/",
          "height": 51
        }
      },
      "source": [
        "#Take month input and output sales\n",
        "sales_list2 = df2['sales'].tolist()\n",
        "\n",
        "month = int(input('Which month would you like to see sales data for? (1-12) '))\n",
        "print(sales_list2[month-1])"
      ],
      "execution_count": null,
      "outputs": [
        {
          "output_type": "stream",
          "text": [
            "Which month would you like to see sales data for? (1-12) 4\n",
            "3452\n"
          ],
          "name": "stdout"
        }
      ]
    },
    {
      "cell_type": "code",
      "metadata": {
        "id": "yGcbC6UHqSFT",
        "outputId": "cf3d5848-36fb-4d8e-d57c-5b33b21892d3",
        "colab": {
          "base_uri": "https://localhost:8080/",
          "height": 238
        }
      },
      "source": [
        "#Calculating and printing out the profit earned every month in 2019\n",
        "df2['sales']-df2['expenditure'] "
      ],
      "execution_count": null,
      "outputs": [
        {
          "output_type": "execute_result",
          "data": {
            "text/plain": [
              "0     4198\n",
              "1     8747\n",
              "2     1101\n",
              "3     -869\n",
              "4     -449\n",
              "5     4552\n",
              "6     4536\n",
              "7    -1113\n",
              "8     8532\n",
              "9     4222\n",
              "10    3336\n",
              "11    4385\n",
              "dtype: int64"
            ]
          },
          "metadata": {
            "tags": []
          },
          "execution_count": 121
        }
      ]
    },
    {
      "cell_type": "code",
      "metadata": {
        "id": "44EACOGBukI5",
        "outputId": "65ee6afd-8698-4a05-d37a-1a54c3e1224f",
        "colab": {
          "base_uri": "https://localhost:8080/",
          "height": 34
        }
      },
      "source": [
        "# Show profit in a list\n",
        "profit_list2 = (df2['sales']- df2['expenditure']).tolist()\n",
        "profit_list2 "
      ],
      "execution_count": null,
      "outputs": [
        {
          "output_type": "execute_result",
          "data": {
            "text/plain": [
              "[4198, 8747, 1101, -869, -449, 4552, 4536, -1113, 8532, 4222, 3336, 4385]"
            ]
          },
          "metadata": {
            "tags": []
          },
          "execution_count": 122
        }
      ]
    },
    {
      "cell_type": "code",
      "metadata": {
        "id": "l_8ZnBqfvgh2",
        "outputId": "c321cdda-eafc-4051-8a55-6e5c04110d07",
        "colab": {
          "base_uri": "https://localhost:8080/",
          "height": 296
        }
      },
      "source": [
        "# Graphing the profit in 2019\n",
        "sns.barplot(x='month', y= profit_list2 , data=df2 , palette='viridis')"
      ],
      "execution_count": null,
      "outputs": [
        {
          "output_type": "execute_result",
          "data": {
            "text/plain": [
              "<matplotlib.axes._subplots.AxesSubplot at 0x7f15f0f2ae48>"
            ]
          },
          "metadata": {
            "tags": []
          },
          "execution_count": 123
        },
        {
          "output_type": "display_data",
          "data": {
            "image/png": "[encoded data removed]",
            "text/plain": [
              "<Figure size 432x288 with 1 Axes>"
            ]
          },
          "metadata": {
            "tags": [],
            "needs_background": "light"
          }
        }
      ]
    },
    {
      "cell_type": "code",
      "metadata": {
        "id": "3lZhu9Hf4k4R",
        "outputId": "e090d23c-246f-4f93-9956-18e1ba77480e",
        "colab": {
          "base_uri": "https://localhost:8080/",
          "height": 34
        }
      },
      "source": [
        "#Opening the sales result in a line format instead of a table is also possible \n",
        "with open('sales2019.csv', 'r') as sales_csv:\n",
        "     spreadsheet = csv.DictReader(sales_csv)\n",
        "\n",
        "     sales = []\n",
        "\n",
        "     for row in spreadsheet:\n",
        "         sales_list = row['sales']\n",
        "         sales.append(sales_list)\n",
        "\n",
        "print('Sales from each month: {}'.format(sales))"
      ],
      "execution_count": null,
      "outputs": [
        {
          "output_type": "stream",
          "text": [
            "Sales from each month: ['6543', '9876', '7834', '3452', '1674', '9084', '6758', '1232', '9988', '7543', '6788', '6532']\n"
          ],
          "name": "stdout"
        }
      ]
    },
    {
      "cell_type": "code",
      "metadata": {
        "id": "9oCmafPy9vXe",
        "outputId": "fd7aed9f-d0f5-4aba-85c3-6f9b83706566",
        "colab": {
          "base_uri": "https://localhost:8080/",
          "height": 34
        }
      },
      "source": [
        "#Calculate the sum of sales in 2019\n",
        "# sales_list = df2['sales'].tolist()\n",
        "df2['sales'].sum()"
      ],
      "execution_count": null,
      "outputs": [
        {
          "output_type": "execute_result",
          "data": {
            "text/plain": [
              "77304"
            ]
          },
          "metadata": {
            "tags": []
          },
          "execution_count": 125
        }
      ]
    },
    {
      "cell_type": "code",
      "metadata": {
        "id": "R_LKx1KV6fja",
        "outputId": "4ba2e9e9-107a-4675-ff30-0a5e7b534cea",
        "colab": {
          "base_uri": "https://localhost:8080/",
          "height": 34
        }
      },
      "source": [
        "#Calculate the sales during the winter 2019\n",
        "with open('sales2019.csv', 'r') as sales2019_csv:\n",
        "     spreadsheet = csv.DictReader(sales2019_csv)\n",
        "\n",
        "     winter_sales = []\n",
        "\n",
        "     for row in spreadsheet:\n",
        "         winter_months = row['sales']\n",
        "         winter_sales.append(winter_months)\n",
        "\n",
        "total_winter_sales = 0\n",
        "for winter_sale in winter_sales:\n",
        "     total_winter_sales = (int(winter_sales[11])) + (int(winter_sales[10])) + (int(winter_sales[9]))\n",
        "\n",
        "print('Total of sales for the months of winter in 2019: {}'.format(total_winter_sales))"
      ],
      "execution_count": null,
      "outputs": [
        {
          "output_type": "stream",
          "text": [
            "Total of sales for the months of winter in 2019: 20863\n"
          ],
          "name": "stdout"
        }
      ]
    },
    {
      "cell_type": "code",
      "metadata": {
        "id": "NUYA7BKc6vDi",
        "outputId": "404d8740-aee7-4912-f4a3-5df9306f3279",
        "colab": {
          "base_uri": "https://localhost:8080/",
          "height": 34
        }
      },
      "source": [
        "#Calculate the sales during the summer 2019\n",
        "with open('sales2019.csv', 'r') as sales2019_csv:\n",
        "     spreadsheet = csv.DictReader(sales2019_csv)\n",
        "\n",
        "     summer_sales = []\n",
        "\n",
        "     for row in spreadsheet:\n",
        "         summer_months = row['sales']\n",
        "         summer_sales.append(summer_months)\n",
        "\n",
        "total_summer_sales = 0\n",
        "for summer_sale in summer_sales:\n",
        "     total_summer_sales = (int(summer_sales[5])) + (int(summer_sales[6])) + (int(summer_sales[7]))\n",
        "\n",
        "print('Total of sales for the months of summer in 2019: {}'.format(total_summer_sales))"
      ],
      "execution_count": null,
      "outputs": [
        {
          "output_type": "stream",
          "text": [
            "Total of sales for the months of summer in 2019: 17074\n"
          ],
          "name": "stdout"
        }
      ]
    },
    {
      "cell_type": "code",
      "metadata": {
        "id": "nafRrnfv97IR"
      },
      "source": [
        "#convert to excel\n",
        "df2.to_excel('sales2019_excel.xlsx')"
      ],
      "execution_count": null,
      "outputs": []
    },
    {
      "cell_type": "code",
      "metadata": {
        "id": "nWzdXBwf9_bI",
        "outputId": "2dad36a3-e9ff-4fcb-bb66-05e6f028aa92",
        "colab": {
          "base_uri": "https://localhost:8080/",
          "height": 34
        }
      },
      "source": [
        "#Calculate the mean\n",
        "df2['sales'].mean()"
      ],
      "execution_count": null,
      "outputs": [
        {
          "output_type": "execute_result",
          "data": {
            "text/plain": [
              "6442.0"
            ]
          },
          "metadata": {
            "tags": []
          },
          "execution_count": 129
        }
      ]
    },
    {
      "cell_type": "code",
      "metadata": {
        "id": "WQgIlfAN-DXN",
        "outputId": "57a0a994-515d-41c4-c732-f613c5895097",
        "colab": {
          "base_uri": "https://localhost:8080/",
          "height": 68
        }
      },
      "source": [
        "#Calculate the maximum sales in 2019\n",
        "df2[['month', 'sales']].max()"
      ],
      "execution_count": null,
      "outputs": [
        {
          "output_type": "execute_result",
          "data": {
            "text/plain": [
              "month     Sep\n",
              "sales    9988\n",
              "dtype: object"
            ]
          },
          "metadata": {
            "tags": []
          },
          "execution_count": 130
        }
      ]
    },
    {
      "cell_type": "code",
      "metadata": {
        "id": "00eNe7c7-Imm",
        "outputId": "1aee732a-0f53-42b4-ae57-545b609e50e3",
        "colab": {
          "base_uri": "https://localhost:8080/",
          "height": 238
        }
      },
      "source": [
        "#Calculate the percentage of change in sales\n",
        "df2['percent_change'] = df2['sales'].pct_change()\n",
        "df2['percent_change']"
      ],
      "execution_count": null,
      "outputs": [
        {
          "output_type": "execute_result",
          "data": {
            "text/plain": [
              "0          NaN\n",
              "1     0.509399\n",
              "2    -0.206764\n",
              "3    -0.559357\n",
              "4    -0.515064\n",
              "5     4.426523\n",
              "6    -0.256055\n",
              "7    -0.817698\n",
              "8     7.107143\n",
              "9    -0.244794\n",
              "10   -0.100093\n",
              "11   -0.037714\n",
              "Name: percent_change, dtype: float64"
            ]
          },
          "metadata": {
            "tags": []
          },
          "execution_count": 131
        }
      ]
    },
    {
      "cell_type": "code",
      "metadata": {
        "id": "Jvj_6u3S7wu3",
        "outputId": "bdee00b6-14f5-4f12-f566-e4a7accd7311",
        "colab": {
          "base_uri": "https://localhost:8080/",
          "height": 119
        }
      },
      "source": [
        "#Creating some user input in order to request the user to specificy his demands\n",
        "with open('sales2019.csv', 'r') as sales2019_csv:\n",
        "     spreadsheet = csv.DictReader(sales2019_csv)\n",
        "\n",
        "     maximum_sale = []\n",
        "     for row in spreadsheet:\n",
        "         find_sale_maximum = row['sales']\n",
        "         maximum_sale.append(find_sale_maximum)\n",
        "\n",
        "find_maximum_sale = max(maximum_sale)\n",
        "\n",
        "with open('sales2019.csv', 'r') as sales2019_csv:\n",
        "     spreadsheet = csv.DictReader(sales2019_csv)\n",
        "\n",
        "     minimum_sale = []\n",
        "     for row in spreadsheet:\n",
        "         find_sale_minimum = row['sales']\n",
        "         minimum_sale.append(find_sale_minimum)\n",
        "\n",
        "find_minimum_sale = min(minimum_sale)\n",
        "\n",
        "#User has the choice within 4 options: see the summer sales, winter sales, highest/lowest sales records\n",
        "\n",
        "while True:\n",
        "     print('To see the summer sales data, enter 1')\n",
        "     print('To see the sales winter data, enter 2')\n",
        "     print('To see the highest sales data, enter 3')\n",
        "     print('To see the lowest sales data, enter 4')\n",
        "\n",
        "     user_input = input('Choose between 1-4')\n",
        "\n",
        "     if user_input == '1':\n",
        "         print('The total of all sales data from summer 2019 is: {}'.format(total_summer_sales))\n",
        "         break\n",
        "     elif user_input == '2':\n",
        "         print('The total of all sales data from winter 2019 is: {}'.format(total_winter_sales))\n",
        "         break\n",
        "     elif user_input == '3':\n",
        "         print('The maximum amount of sales done in a month in 2019 was : {}'.format(find_maximum_sale))\n",
        "         break\n",
        "     elif user_input == '4':\n",
        "         print('The minimum amount of sales done in a month in 2019 was: {}'.format(find_minimum_sale))\n",
        "         break\n",
        "\n",
        "    \n"
      ],
      "execution_count": null,
      "outputs": [
        {
          "output_type": "stream",
          "text": [
            "To see the summer sales data, enter 1\n",
            "To see the sales winter data, enter 2\n",
            "To see the highest sales data, enter 3\n",
            "To see the lowest sales data, enter 4\n",
            "Choose between 1-41\n",
            "The total of all sales data from summer 2019 is: 17074\n"
          ],
          "name": "stdout"
        }
      ]
    },
    {
      "cell_type": "code",
      "metadata": {
        "id": "LA5Kcuwr-M49",
        "outputId": "c1bc60ae-6a08-4d84-e73f-ebb0abc78cca",
        "colab": {
          "base_uri": "https://localhost:8080/",
          "height": 296
        }
      },
      "source": [
        "# Figure showing total sales per month\n",
        "sns.barplot(x='month', y='sales', data=df2, palette='viridis')"
      ],
      "execution_count": null,
      "outputs": [
        {
          "output_type": "execute_result",
          "data": {
            "text/plain": [
              "<matplotlib.axes._subplots.AxesSubplot at 0x7f15f035ce48>"
            ]
          },
          "metadata": {
            "tags": []
          },
          "execution_count": 133
        },
        {
          "output_type": "display_data",
          "data": {
            "image/png": "[encoded data removed]",
            "text/plain": [
              "<Figure size 432x288 with 1 Axes>"
            ]
          },
          "metadata": {
            "tags": [],
            "needs_background": "light"
          }
        }
      ]
    },
    {
      "cell_type": "code",
      "metadata": {
        "id": "iX0Ha_G3ThFL",
        "outputId": "aaf4cb1e-8c26-45b0-9e87-e5259bcfd6d2",
        "colab": {
          "base_uri": "https://localhost:8080/",
          "height": 296
        }
      },
      "source": [
        "sns.barplot(x='weather', y='sales', data=df2, palette='viridis')"
      ],
      "execution_count": null,
      "outputs": [
        {
          "output_type": "execute_result",
          "data": {
            "text/plain": [
              "<matplotlib.axes._subplots.AxesSubplot at 0x7f15f02b3da0>"
            ]
          },
          "metadata": {
            "tags": []
          },
          "execution_count": 134
        },
        {
          "output_type": "display_data",
          "data": {
            "image/png": "[encoded data removed]",
            "text/plain": [
              "<Figure size 432x288 with 1 Axes>"
            ]
          },
          "metadata": {
            "tags": [],
            "needs_background": "light"
          }
        }
      ]
    },
    {
      "cell_type": "markdown",
      "metadata": {
        "id": "rKxfbJ4EUS0k"
      },
      "source": [
        "Here, we can see that as weather improves, total sales increase. There is a positive correlation between weather and sales."
      ]
    },
    {
      "cell_type": "markdown",
      "metadata": {
        "id": "6gFV0OxwolQl"
      },
      "source": [
        "Random \n"
      ]
    },
    {
      "cell_type": "code",
      "metadata": {
        "id": "pPBB1tQVTlmw",
        "outputId": "2356e585-e0aa-4b40-8ef3-28e9a4162762",
        "colab": {
          "base_uri": "https://localhost:8080/",
          "height": 34
        }
      },
      "source": [
        "import random\n",
        "\n",
        "data = [{'year': '2019','month': 'Jan', 'sales': '6543', 'expenditure': '2345', 'weather': '1'},\n",
        "{'year': '2019','month': 'Feb', 'sales': '9876', 'expenditure': '1129', 'weather': '2'},\n",
        "{'year': '2019','month': 'Mar', 'sales': '7834', 'expenditure': '6733', 'weather': '2'},\n",
        "{'year': '2019','month': 'Apr', 'sales': '3452', 'expenditure': '4321', 'weather': '0'},\n",
        "{'year': '2019','month': 'May', 'sales': '1674', 'expenditure': '2123', 'weather': '0'},\n",
        "{'year': '2019','month': 'Jun', 'sales': '9084', 'expenditure': '4532', 'weather': '2'},\n",
        "{'year': '2019','month': 'Jul', 'sales': '6758', 'expenditure': '2222', 'weather': '1'},\n",
        "{'year': '2019','month': 'Aug', 'sales': '1232', 'expenditure': '2345', 'weather': '0'},\n",
        "{'year': '2019','month': 'Sep', 'sales': '9988', 'expenditure': '1456', 'weather': '2'},\n",
        "{'year': '2019','month': 'Oct', 'sales': '7543', 'expenditure': '3321', 'weather': '2'},\n",
        "{'year': '2019','month': 'Nov', 'sales': '6788', 'expenditure': '3452', 'weather': '1'},\n",
        "{'year': '2019','month': 'Dec', 'sales': '6532', 'expenditure': '2147', 'weather': '1'}]\n",
        "\n",
        "value = random.choice(data)\n",
        "print(value)"
      ],
      "execution_count": null,
      "outputs": [
        {
          "output_type": "stream",
          "text": [
            "{'year': '2019', 'month': 'Aug', 'sales': '1232', 'expenditure': '2345', 'weather': '0'}\n"
          ],
          "name": "stdout"
        }
      ]
    },
    {
      "cell_type": "markdown",
      "metadata": {
        "id": "TqOVqGUmT4kS"
      },
      "source": [
        "Random calculations "
      ]
    },
    {
      "cell_type": "markdown",
      "metadata": {
        "id": "59R34QaDT4dh"
      },
      "source": [
        ""
      ]
    },
    {
      "cell_type": "code",
      "metadata": {
        "id": "6QPCk1r_TTjR",
        "outputId": "ae655d1d-c9e8-4cd8-802f-3edd6d7aaa1f",
        "colab": {
          "base_uri": "https://localhost:8080/",
          "height": 88
        }
      },
      "source": [
        "data = [{'year': '2019','month': 'Jan', 'sales': '6543', 'expenditure': '2345', 'weather': '1'},\n",
        "{'year': '2019','month': 'Feb', 'sales': '9876', 'expenditure': '1129', 'weather': '2'},\n",
        "{'year': '2019','month': 'Mar', 'sales': '7834', 'expenditure': '6733', 'weather': '2'},\n",
        "{'year': '2019','month': 'Apr', 'sales': '3452', 'expenditure': '4321', 'weather': '0'},\n",
        "{'year': '2019','month': 'May', 'sales': '1674', 'expenditure': '2123', 'weather': '0'},\n",
        "{'year': '2019','month': 'Jun', 'sales': '9084', 'expenditure': '4532', 'weather': '2'},\n",
        "{'year': '2019','month': 'Jul', 'sales': '6758', 'expenditure': '2222', 'weather': '1'},\n",
        "{'year': '2019','month': 'Aug', 'sales': '1232', 'expenditure': '2345', 'weather': '0'},\n",
        "{'year': '2019','month': 'Sep', 'sales': '9988', 'expenditure': '1456', 'weather': '2'},\n",
        "{'year': '2019','month': 'Oct', 'sales': '7543', 'expenditure': '3321', 'weather': '2'},\n",
        "{'year': '2019','month': 'Nov', 'sales': '6788', 'expenditure': '3452', 'weather': '1'},\n",
        "{'year': '2019','month': 'Dec', 'sales': '6532', 'expenditure': '2147', 'weather': '1'}]\n",
        "\n",
        "print (len(data))\n",
        "print (data[4])\n",
        "print (data[4], data[6])\n",
        "\n",
        "\n"
      ],
      "execution_count": null,
      "outputs": [
        {
          "output_type": "stream",
          "text": [
            "12\n",
            "{'year': '2019', 'month': 'May', 'sales': '1674', 'expenditure': '2123', 'weather': '0'}\n",
            "{'year': '2019', 'month': 'May', 'sales': '1674', 'expenditure': '2123', 'weather': '0'} {'year': '2019', 'month': 'Jul', 'sales': '6758', 'expenditure': '2222', 'weather': '1'}\n"
          ],
          "name": "stdout"
        }
      ]
    }
  ]
}
